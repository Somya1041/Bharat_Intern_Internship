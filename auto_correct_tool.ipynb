{
 "cells": [
  {
   "cell_type": "code",
   "execution_count": 16,
   "metadata": {},
   "outputs": [
    {
     "name": "stdout",
     "output_type": "stream",
     "text": [
      "Corrected word: pencil\n"
     ]
    }
   ],
   "source": [
    "import textdistance\n",
    "\n",
    "def correct_word(input_word, word_list):\n",
    "    min_distance = float('inf')\n",
    "    corrected_word = None\n",
    "\n",
    "    for word in word_list:\n",
    "        distance = textdistance.levenshtein(input_word, word)\n",
    "        if distance <= min_distance:\n",
    "            min_distance = distance\n",
    "            corrected_word = word\n",
    "\n",
    "    return corrected_word\n",
    "\n",
    "def main():\n",
    "    word_list = [\"apple\", \"table\", \"orange\", \"feather\", \"pencil\"]\n",
    "\n",
    "    input_word = input(\"Enter a word: \")\n",
    "\n",
    "    corrected_word = correct_word(input_word, word_list)\n",
    "    \n",
    "    if corrected_word != input_word:\n",
    "        print(f\"Corrected word: {corrected_word}\")\n",
    "    else:\n",
    "        print(\"No similar word found.\")\n",
    "\n",
    "if __name__ == \"__main__\":\n",
    "    main()"
   ]
  }
 ],
 "metadata": {
  "kernelspec": {
   "display_name": "Python 3",
   "language": "python",
   "name": "python3"
  },
  "language_info": {
   "codemirror_mode": {
    "name": "ipython",
    "version": 3
   },
   "file_extension": ".py",
   "mimetype": "text/x-python",
   "name": "python",
   "nbconvert_exporter": "python",
   "pygments_lexer": "ipython3",
   "version": "3.10.2"
  },
  "orig_nbformat": 4
 },
 "nbformat": 4,
 "nbformat_minor": 2
}
